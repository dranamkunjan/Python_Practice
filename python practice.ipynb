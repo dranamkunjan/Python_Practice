{
 "cells": [
  {
   "cell_type": "code",
   "execution_count": null,
   "id": "a374fff6",
   "metadata": {},
   "outputs": [],
   "source": [
    "name=input(\"Give me your name: \")\n",
    "print(\"Your name is \"+ name)"
   ]
  },
  {
   "cell_type": "code",
   "execution_count": null,
   "id": "16d5a777",
   "metadata": {},
   "outputs": [],
   "source": [
    "age = input(\"Enter you age: \")\n",
    "age = int(age)"
   ]
  },
  {
   "cell_type": "code",
   "execution_count": null,
   "id": "74f830fb",
   "metadata": {},
   "outputs": [],
   "source": [
    "def character_input():\n",
    "    name = input('What is your name?: ')\n",
    "    age = int(input('What is your age?: '))\n",
    "    if age ==0:\n",
    "        age = int(input('That is an invalid age, enter age again: '))\n",
    "    \n",
    "    year_100 = 2024 + (100-age)\n",
    "    \n",
    "    print(f' Hi, {name} the year you will be 100 years old will be: {year_100}')"
   ]
  },
  {
   "cell_type": "code",
   "execution_count": null,
   "id": "65909ed2",
   "metadata": {},
   "outputs": [],
   "source": [
    "age = int(input('What is your age?: '))\n",
    "    \n",
    "if age >17:\n",
    "    print(\"can see a rated R movie\")\n",
    "elif age <17 and age >12:\n",
    "    print(\"can see a rated PG-13 movie\")\n",
    "else:\n",
    "    print(\"can only see rated PG movies\")"
   ]
  },
  {
   "cell_type": "code",
   "execution_count": null,
   "id": "df3dcb74",
   "metadata": {},
   "outputs": [],
   "source": [
    "user_num = int(input('Enter the number?: '))\n",
    "\n",
    "if user_num %2 ==0 and user_num % 4 == 0:\n",
    "    print(f'The number {user_num} is even. \\n And is also divisble by 4\")\n",
    "else:\n",
    "    print(f'The number {user_num}is odd.)\n",
    "    "
   ]
  },
  {
   "cell_type": "code",
   "execution_count": null,
   "id": "2fec2c28",
   "metadata": {},
   "outputs": [],
   "source": [
    "# Allowed users to login\n",
    "allowed_users = ['bill', 'steve']\n",
    "\n",
    "# Get the username from a prompt\n",
    "username = input(\"What is your login? :  \")\n",
    "print(username)\n",
    " \n",
    "# Control if the user belongs to allowed_users\n",
    "\n",
    "if username in allowed_users:\n",
    "    print (\"Access granted\")\n",
    "\n",
    "else:\n",
    "    print (\"Access denied\")"
   ]
  },
  {
   "cell_type": "code",
   "execution_count": null,
   "id": "12e5db83",
   "metadata": {},
   "outputs": [],
   "source": [
    "x = \"blue, red, green\"\n",
    "colors_split = x.split(\",\")\n",
    "print(colors_split)"
   ]
  },
  {
   "cell_type": "code",
   "execution_count": 2,
   "id": "dd96e372",
   "metadata": {},
   "outputs": [
    {
     "name": "stdout",
     "output_type": "stream",
     "text": [
      "1\n",
      "4\n",
      "7\n"
     ]
    }
   ],
   "source": [
    "for i in range(1,10,3):\n",
    "    print(i)"
   ]
  },
  {
   "cell_type": "code",
   "execution_count": null,
   "id": "bd7e24fc",
   "metadata": {},
   "outputs": [],
   "source": [
    "#num = input (\"Enter number: \")\n",
    "#print(num)"
   ]
  },
  {
   "cell_type": "code",
   "execution_count": null,
   "id": "b120acbb",
   "metadata": {},
   "outputs": [],
   "source": [
    "name1 = input(\"Enter name: \")\n",
    "\n"
   ]
  },
  {
   "cell_type": "code",
   "execution_count": null,
   "id": "a07eda4b",
   "metadata": {},
   "outputs": [],
   "source": [
    "print(name1)"
   ]
  },
  {
   "cell_type": "code",
   "execution_count": null,
   "id": "f88cc415",
   "metadata": {},
   "outputs": [],
   "source": [
    "g= input(\"Enter your name: \")\n",
    "print(g)"
   ]
  },
  {
   "cell_type": "code",
   "execution_count": null,
   "id": "5926e3d1",
   "metadata": {},
   "outputs": [],
   "source": [
    "num1 = int(input())\n",
    "num2 = int(input())\n",
    "print(num1 + num2)"
   ]
  },
  {
   "cell_type": "code",
   "execution_count": null,
   "id": "66fdefdf",
   "metadata": {},
   "outputs": [],
   "source": [
    "x, y = input (\"Enter two values: \").split()\n",
    "print(\"Number of boys: \", x)\n",
    "print(\"Number of girls: \", y)\n"
   ]
  },
  {
   "cell_type": "code",
   "execution_count": 3,
   "id": "363f8cc3",
   "metadata": {},
   "outputs": [],
   "source": [
    "def swap_list(newList):\n",
    "    newList[0],newList[-1]=newList[-1],newList[0]\n",
    "    \n",
    "    return newList\n",
    "    "
   ]
  },
  {
   "cell_type": "code",
   "execution_count": 4,
   "id": "c9696bfe",
   "metadata": {},
   "outputs": [
    {
     "name": "stdout",
     "output_type": "stream",
     "text": [
      "[11, 4, 65, 87, 33, 2]\n"
     ]
    }
   ],
   "source": [
    "newList =[2,4,65,87,33,11]\n",
    "print(swap_list(newList))"
   ]
  },
  {
   "cell_type": "code",
   "execution_count": null,
   "id": "5e617b77",
   "metadata": {},
   "outputs": [],
   "source": []
  }
 ],
 "metadata": {
  "kernelspec": {
   "display_name": "Python 3 (ipykernel)",
   "language": "python",
   "name": "python3"
  },
  "language_info": {
   "codemirror_mode": {
    "name": "ipython",
    "version": 3
   },
   "file_extension": ".py",
   "mimetype": "text/x-python",
   "name": "python",
   "nbconvert_exporter": "python",
   "pygments_lexer": "ipython3",
   "version": "3.11.5"
  }
 },
 "nbformat": 4,
 "nbformat_minor": 5
}
