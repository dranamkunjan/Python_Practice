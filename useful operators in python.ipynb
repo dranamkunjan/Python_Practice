{
 "cells": [
  {
   "cell_type": "code",
   "execution_count": 1,
   "id": "62696844",
   "metadata": {},
   "outputs": [
    {
     "name": "stdout",
     "output_type": "stream",
     "text": [
      "0\n",
      "1\n",
      "2\n",
      "3\n",
      "4\n",
      "5\n",
      "6\n",
      "7\n",
      "8\n",
      "9\n"
     ]
    }
   ],
   "source": [
    "mylist=[1,2,3]\n",
    "for num in range(10):\n",
    "    print(num)"
   ]
  },
  {
   "cell_type": "code",
   "execution_count": 3,
   "id": "c8d2fb66",
   "metadata": {},
   "outputs": [
    {
     "name": "stdout",
     "output_type": "stream",
     "text": [
      "0\n",
      "2\n",
      "4\n",
      "6\n",
      "8\n"
     ]
    }
   ],
   "source": [
    "for num in range(0,10,2):\n",
    "    print(num)"
   ]
  },
  {
   "cell_type": "code",
   "execution_count": 4,
   "id": "855b48c6",
   "metadata": {},
   "outputs": [
    {
     "data": {
      "text/plain": [
       "[0, 2, 4, 6, 8, 10]"
      ]
     },
     "execution_count": 4,
     "metadata": {},
     "output_type": "execute_result"
    }
   ],
   "source": [
    "list(range(0,11,2))"
   ]
  },
  {
   "cell_type": "code",
   "execution_count": 8,
   "id": "b6c457f9",
   "metadata": {},
   "outputs": [
    {
     "name": "stdout",
     "output_type": "stream",
     "text": [
      "E\n",
      "0\n",
      "\n",
      "\n",
      "u\n",
      "1\n",
      "\n",
      "\n",
      "r\n",
      "2\n",
      "\n",
      "\n",
      "o\n",
      "3\n",
      "\n",
      "\n",
      "p\n",
      "4\n",
      "\n",
      "\n",
      "e\n",
      "5\n",
      "\n",
      "\n"
     ]
    }
   ],
   "source": [
    "word = 'Europe'\n",
    "for index, letter in enumerate(word):\n",
    "    print(letter)\n",
    "    print(index)\n",
    "    print('\\n')"
   ]
  },
  {
   "cell_type": "code",
   "execution_count": 13,
   "id": "bebaaa94",
   "metadata": {},
   "outputs": [
    {
     "name": "stdout",
     "output_type": "stream",
     "text": [
      "(1, 'a', 100)\n",
      "(2, 'b', 200)\n"
     ]
    }
   ],
   "source": [
    "mylist1= [1,2, 3]\n",
    "mylist2= ['a', 'b']\n",
    "mylist3=[100,200]\n",
    "for item in zip(mylist1,mylist2, mylist3):\n",
    "    print(item)"
   ]
  },
  {
   "cell_type": "code",
   "execution_count": 14,
   "id": "1b62bda4",
   "metadata": {},
   "outputs": [
    {
     "data": {
      "text/plain": [
       "[(1, 'a', 100), (2, 'b', 200)]"
      ]
     },
     "execution_count": 14,
     "metadata": {},
     "output_type": "execute_result"
    }
   ],
   "source": [
    "list(zip(mylist1,mylist2, mylist3))"
   ]
  },
  {
   "cell_type": "code",
   "execution_count": 15,
   "id": "6321d2e2",
   "metadata": {},
   "outputs": [
    {
     "data": {
      "text/plain": [
       "False"
      ]
     },
     "execution_count": 15,
     "metadata": {},
     "output_type": "execute_result"
    }
   ],
   "source": [
    "\"x\" in [1,2,3]"
   ]
  },
  {
   "cell_type": "code",
   "execution_count": 17,
   "id": "f19b7675",
   "metadata": {},
   "outputs": [
    {
     "data": {
      "text/plain": [
       "True"
      ]
     },
     "execution_count": 17,
     "metadata": {},
     "output_type": "execute_result"
    }
   ],
   "source": [
    "\"x\" in ['x','y','z']"
   ]
  },
  {
   "cell_type": "code",
   "execution_count": 18,
   "id": "cbe03f1c",
   "metadata": {},
   "outputs": [
    {
     "data": {
      "text/plain": [
       "10"
      ]
     },
     "execution_count": 18,
     "metadata": {},
     "output_type": "execute_result"
    }
   ],
   "source": [
    "mylist=[10,20,70,90,120]\n",
    "min(mylist)"
   ]
  },
  {
   "cell_type": "code",
   "execution_count": 19,
   "id": "fa2dc5f0",
   "metadata": {},
   "outputs": [
    {
     "data": {
      "text/plain": [
       "120"
      ]
     },
     "execution_count": 19,
     "metadata": {},
     "output_type": "execute_result"
    }
   ],
   "source": [
    "max(mylist)"
   ]
  },
  {
   "cell_type": "code",
   "execution_count": 20,
   "id": "98e4ed96",
   "metadata": {},
   "outputs": [],
   "source": [
    " from random import shuffle\n",
    " "
   ]
  },
  {
   "cell_type": "code",
   "execution_count": 23,
   "id": "4f92f55f",
   "metadata": {},
   "outputs": [],
   "source": [
    "mylist=[1,2,3,4,5,6,7]\n",
    "shuffle(mylist)\n"
   ]
  },
  {
   "cell_type": "code",
   "execution_count": 25,
   "id": "c8ff5edb",
   "metadata": {},
   "outputs": [
    {
     "data": {
      "text/plain": [
       "[7, 2, 5, 3, 4, 6, 1]"
      ]
     },
     "execution_count": 25,
     "metadata": {},
     "output_type": "execute_result"
    }
   ],
   "source": [
    "mylist"
   ]
  },
  {
   "cell_type": "code",
   "execution_count": 27,
   "id": "394b6944",
   "metadata": {},
   "outputs": [],
   "source": [
    "from random import randint"
   ]
  },
  {
   "cell_type": "code",
   "execution_count": 28,
   "id": "3a4a0376",
   "metadata": {},
   "outputs": [
    {
     "data": {
      "text/plain": [
       "78"
      ]
     },
     "execution_count": 28,
     "metadata": {},
     "output_type": "execute_result"
    }
   ],
   "source": [
    "randint(0,100)"
   ]
  },
  {
   "cell_type": "code",
   "execution_count": 30,
   "id": "2c5caeab",
   "metadata": {},
   "outputs": [],
   "source": [
    "mynum = randint(0,60)"
   ]
  },
  {
   "cell_type": "code",
   "execution_count": 31,
   "id": "3364dcd0",
   "metadata": {},
   "outputs": [
    {
     "data": {
      "text/plain": [
       "47"
      ]
     },
     "execution_count": 31,
     "metadata": {},
     "output_type": "execute_result"
    }
   ],
   "source": [
    "mynum"
   ]
  },
  {
   "cell_type": "code",
   "execution_count": null,
   "id": "19d34146",
   "metadata": {},
   "outputs": [],
   "source": [
    "result = int(input('Enter your name:')) # type of result is string"
   ]
  },
  {
   "cell_type": "code",
   "execution_count": null,
   "id": "ad495a80",
   "metadata": {},
   "outputs": [],
   "source": [
    "results = [x if x%2==0 else 'ODD' for x in range(0,11)]"
   ]
  },
  {
   "cell_type": "code",
   "execution_count": null,
   "id": "52771a50",
   "metadata": {},
   "outputs": [],
   "source": [
    "results"
   ]
  },
  {
   "cell_type": "markdown",
   "id": "36dae1e1",
   "metadata": {},
   "source": [
    "float(result) #change datatype\n",
    "int(result)"
   ]
  },
  {
   "cell_type": "code",
   "execution_count": null,
   "id": "8df86927",
   "metadata": {},
   "outputs": [],
   "source": [
    "mylist = []\n",
    "\n",
    "for x in [2,4,6]:\n",
    "    for y in [1,10,100]:\n",
    "        mylist.append(x*y)\n",
    "print(mylist)\n",
    "        "
   ]
  },
  {
   "cell_type": "code",
   "execution_count": null,
   "id": "846e80e1",
   "metadata": {},
   "outputs": [],
   "source": []
  },
  {
   "cell_type": "code",
   "execution_count": null,
   "id": "e1f6a759",
   "metadata": {},
   "outputs": [],
   "source": []
  },
  {
   "cell_type": "code",
   "execution_count": null,
   "id": "08cba548",
   "metadata": {},
   "outputs": [],
   "source": []
  }
 ],
 "metadata": {
  "kernelspec": {
   "display_name": "Python 3 (ipykernel)",
   "language": "python",
   "name": "python3"
  },
  "language_info": {
   "codemirror_mode": {
    "name": "ipython",
    "version": 3
   },
   "file_extension": ".py",
   "mimetype": "text/x-python",
   "name": "python",
   "nbconvert_exporter": "python",
   "pygments_lexer": "ipython3",
   "version": "3.11.5"
  }
 },
 "nbformat": 4,
 "nbformat_minor": 5
}
