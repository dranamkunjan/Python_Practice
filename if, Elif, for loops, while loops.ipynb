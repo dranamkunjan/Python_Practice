{
 "cells": [
  {
   "cell_type": "code",
   "execution_count": null,
   "id": "403ca5ba",
   "metadata": {},
   "outputs": [],
   "source": [
    "if some-cond:\n",
    "    #exceute some code\n",
    "elif some other_con:\n",
    "    #do something different \n",
    "else:\n",
    "    #do something else\n",
    "    "
   ]
  },
  {
   "cell_type": "code",
   "execution_count": 17,
   "id": "52e337b7",
   "metadata": {},
   "outputs": [
    {
     "name": "stdout",
     "output_type": "stream",
     "text": [
      "best car of 2023\n"
     ]
    }
   ],
   "source": [
    "car = 'toyota'\n",
    "\n",
    "if car==\"toyota\":\n",
    "    print('best car of 2023')\n",
    "elif car==\"suzuki\":\n",
    "    print(\"below average performer\")\n",
    "else:\n",
    "    print(\"better car\")\n",
    "  "
   ]
  },
  {
   "cell_type": "code",
   "execution_count": 12,
   "id": "a80445f5",
   "metadata": {},
   "outputs": [
    {
     "name": "stdout",
     "output_type": "stream",
     "text": [
      "i am not thirsty\n"
     ]
    }
   ],
   "source": [
    "drink=False\n",
    "if drink:\n",
    "    print('offer me water')\n",
    "else:\n",
    "    print('i am not thirsty')"
   ]
  },
  {
   "cell_type": "code",
   "execution_count": 16,
   "id": "421f75f4",
   "metadata": {},
   "outputs": [
    {
     "name": "stdout",
     "output_type": "stream",
     "text": [
      "Whats your name, If i may ask?\n"
     ]
    }
   ],
   "source": [
    "name = 'Ryan'\n",
    "\n",
    "if name == 'John':\n",
    "    print(\"Hey John\")\n",
    "elif name ==\"theo\":\n",
    "    print(\"Hey Theo\")\n",
    "else:\n",
    "    print(\"Whats your name, If i may ask?\")"
   ]
  },
  {
   "cell_type": "code",
   "execution_count": 36,
   "id": "860affdb",
   "metadata": {},
   "outputs": [
    {
     "name": "stdout",
     "output_type": "stream",
     "text": [
      "odd number is:1\n",
      "odd number is:3\n",
      "odd number is:5\n",
      "odd number is:7\n",
      "odd number is:9\n",
      "odd number is:11\n",
      "odd number is:13\n"
     ]
    }
   ],
   "source": [
    "my_list=[1,2,3,4,5,6,7,8,9,10,11,12,13,14]\n",
    "for num in my_list:\n",
    "    \n",
    "    if num % 2 !=0:\n",
    "        print(f\"odd number is:{num}\")"
   ]
  },
  {
   "cell_type": "code",
   "execution_count": 44,
   "id": "41fe9e39",
   "metadata": {},
   "outputs": [
    {
     "name": "stdout",
     "output_type": "stream",
     "text": [
      "thank you\n",
      "thank you\n",
      "thank you\n",
      "thank you\n",
      "thank you\n",
      "thank you\n",
      "thank you\n",
      "thank you\n",
      "thank you\n",
      "thank you\n",
      "thank you\n",
      "thank you\n",
      "thank you\n",
      "thank you\n"
     ]
    }
   ],
   "source": [
    "for num in my_list:\n",
    "    print('thank you')"
   ]
  },
  {
   "cell_type": "code",
   "execution_count": 48,
   "id": "1fa15b49",
   "metadata": {},
   "outputs": [
    {
     "name": "stdout",
     "output_type": "stream",
     "text": [
      "Odd number:1\n",
      "even number :2\n",
      "Odd number:3\n",
      "even number :4\n",
      "Odd number:5\n",
      "even number :6\n",
      "Odd number:7\n",
      "even number :8\n",
      "Odd number:9\n",
      "even number :10\n",
      "Odd number:11\n",
      "even number :12\n",
      "Odd number:13\n",
      "even number :14\n"
     ]
    }
   ],
   "source": [
    "for num in my_list:\n",
    "    if num%2 ==0:\n",
    "        print(f'even number :{num}')\n",
    "    else:\n",
    "        print(f'Odd number:{num}')\n"
   ]
  },
  {
   "cell_type": "code",
   "execution_count": 61,
   "id": "2ab17ca5",
   "metadata": {},
   "outputs": [
    {
     "name": "stdout",
     "output_type": "stream",
     "text": [
      "1\n",
      "1\n",
      "2\n",
      "2\n",
      "3\n",
      "3\n",
      "4\n",
      "4\n",
      "5\n",
      "5\n",
      "6\n",
      "6\n",
      "7\n",
      "7\n"
     ]
    }
   ],
   "source": [
    "list_sum = 0\n",
    "for num in my_list:\n",
    "    list_sum= num-list_sum\n",
    "    print(list_sum)"
   ]
  },
  {
   "cell_type": "code",
   "execution_count": 58,
   "id": "b7fc7733",
   "metadata": {},
   "outputs": [
    {
     "name": "stdout",
     "output_type": "stream",
     "text": [
      "hey\n",
      "hey\n",
      "hey\n",
      "hey\n",
      "hey\n",
      "hey\n",
      "hey\n",
      "hey\n",
      "hey\n",
      "hey\n",
      "hey\n"
     ]
    }
   ],
   "source": [
    "\n",
    "for letter in \"Hello world\":\n",
    "    print('hey')"
   ]
  },
  {
   "cell_type": "code",
   "execution_count": 65,
   "id": "8740f629",
   "metadata": {},
   "outputs": [
    {
     "name": "stdout",
     "output_type": "stream",
     "text": [
      "2 1\n",
      "5 4\n",
      "8 7\n"
     ]
    }
   ],
   "source": [
    "mylist =[(1,2,3),(4,5,6),(7,8,9)]\n",
    "for a,b,c in mylist: #tuple unpacking\n",
    "    print(b, a)"
   ]
  },
  {
   "cell_type": "code",
   "execution_count": 66,
   "id": "aadd852c",
   "metadata": {},
   "outputs": [
    {
     "data": {
      "text/plain": [
       "3"
      ]
     },
     "execution_count": 66,
     "metadata": {},
     "output_type": "execute_result"
    }
   ],
   "source": [
    "len(mylist)"
   ]
  },
  {
   "cell_type": "code",
   "execution_count": 81,
   "id": "472a16b6",
   "metadata": {},
   "outputs": [
    {
     "name": "stdout",
     "output_type": "stream",
     "text": [
      "cut\n",
      "grate\n"
     ]
    }
   ],
   "source": [
    "d ={'scisscor':'cut','knife':'grate'}\n",
    "for key,value in d.items():   #tuple unpacking\n",
    "    print(value)"
   ]
  },
  {
   "cell_type": "code",
   "execution_count": 90,
   "id": "1c22aa9b",
   "metadata": {},
   "outputs": [
    {
     "name": "stdout",
     "output_type": "stream",
     "text": [
      "The current value of x is 4\n",
      "The current value of x is 5\n",
      "The current value of x is 6\n",
      "The current value of x is 7\n",
      "The current value of x is 8\n",
      "The current value of x is 9\n",
      "The current value of x is 10\n",
      "The current value of x is 11\n",
      "The current value of x is 12\n",
      "The current value of x is 13\n",
      "The current value of x is 14\n",
      "The current value of x is 15\n",
      "The current value of x is 16\n",
      "The current value of x is 17\n",
      "The current value of x is 18\n",
      "The current value of x is 19\n",
      "X is not less than 20\n"
     ]
    }
   ],
   "source": [
    "x=4\n",
    "while x<20:\n",
    "    print(f'The current value of x is {x}')\n",
    "    x=x+1\n",
    "else:\n",
    "    print(\"X is not less than 20\")\n",
    "    "
   ]
  },
  {
   "cell_type": "code",
   "execution_count": 91,
   "id": "71c99f16",
   "metadata": {},
   "outputs": [],
   "source": [
    "x= [1,2,3]\n",
    "for item in x:\n",
    "    \n",
    "    pass  #do nothing\n"
   ]
  },
  {
   "cell_type": "code",
   "execution_count": 95,
   "id": "a6c40876",
   "metadata": {},
   "outputs": [
    {
     "name": "stdout",
     "output_type": "stream",
     "text": [
      "y\n"
     ]
    }
   ],
   "source": [
    "mystring = 'sammy'\n",
    "\n",
    "\n"
   ]
  },
  {
   "cell_type": "code",
   "execution_count": 97,
   "id": "a30a3b6d",
   "metadata": {},
   "outputs": [
    {
     "name": "stdout",
     "output_type": "stream",
     "text": [
      "s\n",
      "m\n",
      "m\n",
      "y\n"
     ]
    }
   ],
   "source": [
    "for letter in mystring:\n",
    "    if letter == 'a':\n",
    "        continue\n",
    "    print(letter)"
   ]
  },
  {
   "cell_type": "code",
   "execution_count": 98,
   "id": "9c322aa9",
   "metadata": {},
   "outputs": [
    {
     "name": "stdout",
     "output_type": "stream",
     "text": [
      "s\n"
     ]
    }
   ],
   "source": [
    "for letter in mystring:\n",
    "    if letter == 'a':\n",
    "        break\n",
    "    print(letter)"
   ]
  },
  {
   "cell_type": "code",
   "execution_count": 99,
   "id": "cd8e3f90",
   "metadata": {},
   "outputs": [
    {
     "name": "stdout",
     "output_type": "stream",
     "text": [
      "5\n"
     ]
    }
   ],
   "source": [
    "x=5\n",
    "while x <10:\n",
    "    if x==6:\n",
    "        break\n",
    "    print(x)\n",
    "    x=x+1"
   ]
  },
  {
   "cell_type": "code",
   "execution_count": null,
   "id": "ac981bdf",
   "metadata": {},
   "outputs": [],
   "source": []
  }
 ],
 "metadata": {
  "kernelspec": {
   "display_name": "Python 3 (ipykernel)",
   "language": "python",
   "name": "python3"
  },
  "language_info": {
   "codemirror_mode": {
    "name": "ipython",
    "version": 3
   },
   "file_extension": ".py",
   "mimetype": "text/x-python",
   "name": "python",
   "nbconvert_exporter": "python",
   "pygments_lexer": "ipython3",
   "version": "3.11.5"
  }
 },
 "nbformat": 4,
 "nbformat_minor": 5
}
