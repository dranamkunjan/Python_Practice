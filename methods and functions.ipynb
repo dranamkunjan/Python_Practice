{
 "cells": [
  {
   "cell_type": "markdown",
   "id": "38952777",
   "metadata": {},
   "source": [
    "For the Jupyter Notebook we can quickly see all the possible methods using the tab key. The methods for a list are:\n",
    "\n",
    "append\n",
    "count\n",
    "extend\n",
    "insert\n",
    "pop\n",
    "remove\n",
    "reverse\n",
    "sort\n",
    "You can always use Shift+Tab in the Jupyter Notebook to get more help about the method. In general Python you can use the help() function:"
   ]
  },
  {
   "cell_type": "code",
   "execution_count": 1,
   "id": "0637805d",
   "metadata": {},
   "outputs": [
    {
     "name": "stdout",
     "output_type": "stream",
     "text": [
      "[1, 2, 3]\n"
     ]
    }
   ],
   "source": [
    "lst=[1,2,3]\n",
    "print(lst)"
   ]
  },
  {
   "cell_type": "code",
   "execution_count": 2,
   "id": "9d6b9e52",
   "metadata": {},
   "outputs": [],
   "source": [
    "lst.append(5)"
   ]
  },
  {
   "cell_type": "code",
   "execution_count": 3,
   "id": "3a5c4f5e",
   "metadata": {},
   "outputs": [
    {
     "data": {
      "text/plain": [
       "[1, 2, 3, 5]"
      ]
     },
     "execution_count": 3,
     "metadata": {},
     "output_type": "execute_result"
    }
   ],
   "source": [
    "lst"
   ]
  },
  {
   "cell_type": "code",
   "execution_count": 4,
   "id": "09418c39",
   "metadata": {},
   "outputs": [
    {
     "data": {
      "text/plain": [
       "1"
      ]
     },
     "execution_count": 4,
     "metadata": {},
     "output_type": "execute_result"
    }
   ],
   "source": [
    "lst.count(2) #how many times 2 shows up in list"
   ]
  },
  {
   "cell_type": "markdown",
   "id": "404becbb",
   "metadata": {},
   "source": [
    "Formally, a function is a useful device that groups together a set of statements so they can be run more than once. They can also let us specify parameters that can serve as inputs to the functions.\n",
    "\n",
    "On a more fundamental level, functions allow us to not have to repeatedly write the same code again and again. If you remember back to the lessons on strings and lists, remember that we used a function len() to get the length of a string. Since checking the length of a sequence is a common task you would want to write a function that can do this repeatedly at command.\n",
    "\n",
    "Functions will be one of most basic levels of reusing code in Python, and it will also allow us to start thinking of program design (we will dive much deeper into the ideas of design when we learn about Object Oriented Programming)."
   ]
  },
  {
   "cell_type": "code",
   "execution_count": 5,
   "id": "73fce201",
   "metadata": {},
   "outputs": [],
   "source": [
    "def greeting(name):\n",
    "    print(f'Hello {name}')\n",
    "    "
   ]
  },
  {
   "cell_type": "code",
   "execution_count": 6,
   "id": "4ae424e9",
   "metadata": {},
   "outputs": [
    {
     "name": "stdout",
     "output_type": "stream",
     "text": [
      "Hello A\n"
     ]
    }
   ],
   "source": [
    "greeting('A')"
   ]
  },
  {
   "cell_type": "markdown",
   "id": "b8a8da70",
   "metadata": {},
   "source": [
    "So far we've only seen print() used, but if we actually want to save the resulting variable we need to use the return keyword.\n",
    "\n",
    "Let's see some example that use a return statement. return allows a function to return a result that can then be stored as a variable, or used in whatever manner a user wants."
   ]
  },
  {
   "cell_type": "code",
   "execution_count": 9,
   "id": "49fee8e3",
   "metadata": {},
   "outputs": [],
   "source": [
    "def add_num(a,b):\n",
    "    return a+b"
   ]
  },
  {
   "cell_type": "code",
   "execution_count": 11,
   "id": "a59c6171",
   "metadata": {},
   "outputs": [
    {
     "data": {
      "text/plain": [
       "163"
      ]
     },
     "execution_count": 11,
     "metadata": {},
     "output_type": "execute_result"
    }
   ],
   "source": [
    "add_num(129,34)"
   ]
  },
  {
   "cell_type": "code",
   "execution_count": 12,
   "id": "2e862de3",
   "metadata": {},
   "outputs": [],
   "source": [
    "# Can also save as variable due to return\n",
    "result = add_num(4,5)"
   ]
  },
  {
   "cell_type": "code",
   "execution_count": 13,
   "id": "fadad70b",
   "metadata": {},
   "outputs": [
    {
     "name": "stdout",
     "output_type": "stream",
     "text": [
      "9\n"
     ]
    }
   ],
   "source": [
    "print(result)"
   ]
  },
  {
   "cell_type": "code",
   "execution_count": 14,
   "id": "9fce4fb4",
   "metadata": {},
   "outputs": [
    {
     "name": "stdout",
     "output_type": "stream",
     "text": [
      "Object `strings` not found.\n"
     ]
    },
    {
     "data": {
      "text/plain": [
       "'onetwo'"
      ]
     },
     "execution_count": 14,
     "metadata": {},
     "output_type": "execute_result"
    }
   ],
   "source": [
    "What happens if we input two strings?\n",
    "\n",
    "add_num('one','two')\n"
   ]
  },
  {
   "cell_type": "code",
   "execution_count": 27,
   "id": "1e064d89",
   "metadata": {},
   "outputs": [],
   "source": [
    "def check_even_num(num_list):\n",
    "    even_numbers = []\n",
    "    \n",
    "    for num in num_list:\n",
    "        if num %2 ==0:\n",
    "            even_numbers.append(num)\n",
    "            \n",
    "        else:\n",
    "            pass\n",
    "        \n",
    "    return even_numbers\n",
    "        "
   ]
  },
  {
   "cell_type": "code",
   "execution_count": 28,
   "id": "27a3e055",
   "metadata": {},
   "outputs": [
    {
     "data": {
      "text/plain": [
       "[10, 12]"
      ]
     },
     "execution_count": 28,
     "metadata": {},
     "output_type": "execute_result"
    }
   ],
   "source": [
    "check_even_num([1,3,5,10,12])"
   ]
  },
  {
   "cell_type": "code",
   "execution_count": 29,
   "id": "b9600c74",
   "metadata": {},
   "outputs": [],
   "source": [
    "stock_prices = [('AAPL',200),('GOOG',300),('MSFT',400)] #unpacking tuple"
   ]
  },
  {
   "cell_type": "code",
   "execution_count": 34,
   "id": "463c7f6e",
   "metadata": {},
   "outputs": [
    {
     "name": "stdout",
     "output_type": "stream",
     "text": [
      "200\n",
      "300\n",
      "400\n"
     ]
    }
   ],
   "source": [
    "for stock,prices in stock_prices:\n",
    "    print(prices)"
   ]
  },
  {
   "cell_type": "code",
   "execution_count": 37,
   "id": "3bc5d26d",
   "metadata": {},
   "outputs": [],
   "source": [
    "work_hours = [('Abby',100),('Billy',400),('Cassie',800)]\n",
    "#The employee of the month function will return both the name and number of hours worked for the top performer (judged by number of hours worked)."
   ]
  },
  {
   "cell_type": "code",
   "execution_count": 39,
   "id": "e5f1ccdd",
   "metadata": {},
   "outputs": [],
   "source": [
    "def employee_details(work_hours):\n",
    "    #initial max value, assigned to zero\n",
    "    total_hours=0\n",
    "    #employe empty value\n",
    "    employee_of_month=''\n",
    "    for employee, hours in work_hours:\n",
    "        if hours > total_hours:\n",
    "            total_hours = hours\n",
    "            employee_of_month = employee\n",
    "        else:\n",
    "            pass\n",
    "    return (employee_of_month, total_hours)\n",
    "        "
   ]
  },
  {
   "cell_type": "code",
   "execution_count": 40,
   "id": "5bd52d93",
   "metadata": {},
   "outputs": [
    {
     "data": {
      "text/plain": [
       "('Cassie', 800)"
      ]
     },
     "execution_count": 40,
     "metadata": {},
     "output_type": "execute_result"
    }
   ],
   "source": [
    "employee_details(work_hours)"
   ]
  },
  {
   "cell_type": "markdown",
   "id": "48f35cb1",
   "metadata": {},
   "source": [
    "LESSER OF TWO EVENS: Write a function that returns the lesser of two given numbers if both numbers are even, but returns the greater if one or both numbers are odd"
   ]
  },
  {
   "cell_type": "code",
   "execution_count": 52,
   "id": "750099f4",
   "metadata": {},
   "outputs": [],
   "source": [
    "def lesser_of_two_evens(a,b):\n",
    "    if a %2 ==0 and b%2 ==0:\n",
    "        return min(a,b)\n",
    "    else:\n",
    "        return max(a,b)"
   ]
  },
  {
   "cell_type": "code",
   "execution_count": 56,
   "id": "ec69585f",
   "metadata": {},
   "outputs": [
    {
     "data": {
      "text/plain": [
       "7"
      ]
     },
     "execution_count": 56,
     "metadata": {},
     "output_type": "execute_result"
    }
   ],
   "source": [
    "lesser_of_two_evens(4,7)"
   ]
  },
  {
   "cell_type": "markdown",
   "id": "31392fa3",
   "metadata": {},
   "source": [
    "Write a function takes a two-word string and returns True if both words begin with same letter"
   ]
  },
  {
   "cell_type": "code",
   "execution_count": 65,
   "id": "c61122ce",
   "metadata": {},
   "outputs": [
    {
     "name": "stdout",
     "output_type": "stream",
     "text": [
      "True\n"
     ]
    }
   ],
   "source": [
    "def same_letter_check(L):\n",
    "    words=L.split()\n",
    "    \n",
    "    return words[0][0].upper()==words[1][0].upper()\n",
    "\n",
    "result=same_letter_check(\"LeveL Llama\") #words[0]: Accesses the first word in the list of words.\n",
    "#words[0][0]: Accesses the first letter of the first word.\n",
    "#.lower(): Converts the letter to lowercase.\n",
    "print(result)\n",
    "                        "
   ]
  },
  {
   "cell_type": "code",
   "execution_count": 66,
   "id": "43a53dd4",
   "metadata": {},
   "outputs": [
    {
     "name": "stdout",
     "output_type": "stream",
     "text": [
      "False\n"
     ]
    }
   ],
   "source": [
    "def letter_check(C):\n",
    "    words = C.split()\n",
    "    return words[0][0].upper==words[1][0].upper()\n",
    "result=letter_check(\"Crazy Kangaroo\")\n",
    "print(result)"
   ]
  },
  {
   "cell_type": "code",
   "execution_count": 82,
   "id": "830d180b",
   "metadata": {},
   "outputs": [
    {
     "name": "stdout",
     "output_type": "stream",
     "text": [
      "MacDonald\n"
     ]
    }
   ],
   "source": [
    "def old_macdonald(name):\n",
    "    return name[0].upper()+name[1:3]+name[3].upper() + name[4:]\n",
    "\n",
    "result = old_macdonald('macdonald')\n",
    "print(result)"
   ]
  },
  {
   "cell_type": "code",
   "execution_count": 86,
   "id": "ba4b1435",
   "metadata": {},
   "outputs": [],
   "source": [
    "def master_yoda(txt):\n",
    "    words = txt.split()\n",
    "    reversed_txt = ' '.join(reversed(words))\n",
    "    return reversed_txt\n",
    "\n",
    "txt = 'I am home'\n",
    "result= master_yoda(txt)\n"
   ]
  },
  {
   "cell_type": "code",
   "execution_count": 87,
   "id": "7864b6b8",
   "metadata": {},
   "outputs": [
    {
     "name": "stdout",
     "output_type": "stream",
     "text": [
      "home am I\n"
     ]
    }
   ],
   "source": [
    "print(result)"
   ]
  },
  {
   "cell_type": "code",
   "execution_count": 90,
   "id": "f14e35e6",
   "metadata": {},
   "outputs": [
    {
     "name": "stdout",
     "output_type": "stream",
     "text": [
      "2024 go Lets\n"
     ]
    }
   ],
   "source": [
    "def greetings(txt):\n",
    "    words = txt.split()\n",
    "    reversed_txt = ' '.join(reversed(words))\n",
    "    return reversed_txt\n",
    "txt ='Lets go 2024'\n",
    "result = greetings(txt)\n",
    "print(result)"
   ]
  },
  {
   "cell_type": "code",
   "execution_count": 102,
   "id": "c7ecf6b3",
   "metadata": {},
   "outputs": [
    {
     "name": "stdout",
     "output_type": "stream",
     "text": [
      "eee\n",
      "eee\n"
     ]
    }
   ],
   "source": [
    "def paper_doll(n):\n",
    "    result = ' '\n",
    "    for char in n:\n",
    "        result= char*3\n",
    "    return result\n",
    "og_string = \"mudpie\"\n",
    "result_string = paper_doll(og_string)\n",
    "print(result_string)\n",
    "first_word = result_string.split()[0]\n",
    "print(first_word)"
   ]
  },
  {
   "cell_type": "code",
   "execution_count": null,
   "id": "eabc13fe",
   "metadata": {},
   "outputs": [],
   "source": []
  }
 ],
 "metadata": {
  "kernelspec": {
   "display_name": "Python 3 (ipykernel)",
   "language": "python",
   "name": "python3"
  },
  "language_info": {
   "codemirror_mode": {
    "name": "ipython",
    "version": 3
   },
   "file_extension": ".py",
   "mimetype": "text/x-python",
   "name": "python",
   "nbconvert_exporter": "python",
   "pygments_lexer": "ipython3",
   "version": "3.11.5"
  }
 },
 "nbformat": 4,
 "nbformat_minor": 5
}
